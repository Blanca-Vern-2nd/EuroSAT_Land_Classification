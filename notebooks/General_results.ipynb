{
  "cells": [
    {
      "cell_type": "markdown",
      "metadata": {
        "id": "view-in-github",
        "colab_type": "text"
      },
      "source": [
        "<a href=\"https://colab.research.google.com/github/Blanca-Vern-2nd/EuroSAT_Land_Classification/blob/main/notebooks/General_results.ipynb\" target=\"_parent\"><img src=\"https://colab.research.google.com/assets/colab-badge.svg\" alt=\"Open In Colab\"/></a>"
      ]
    },
    {
      "cell_type": "code",
      "execution_count": null,
      "metadata": {
        "colab": {
          "base_uri": "https://localhost:8080/"
        },
        "id": "yIGYxv53cNKQ",
        "outputId": "dd7d3cfd-8162-4d4c-9c97-1515bb6007a9"
      },
      "outputs": [
        {
          "name": "stdout",
          "output_type": "stream",
          "text": [
            "Found existing installation: tensorflow 2.17.1\n",
            "Uninstalling tensorflow-2.17.1:\n",
            "  Successfully uninstalled tensorflow-2.17.1\n",
            "Collecting tensorflow==2.15\n",
            "  Downloading tensorflow-2.15.0-cp310-cp310-manylinux_2_17_x86_64.manylinux2014_x86_64.whl.metadata (4.4 kB)\n",
            "Requirement already satisfied: absl-py>=1.0.0 in /usr/local/lib/python3.10/dist-packages (from tensorflow==2.15) (1.4.0)\n",
            "Requirement already satisfied: astunparse>=1.6.0 in /usr/local/lib/python3.10/dist-packages (from tensorflow==2.15) (1.6.3)\n",
            "Requirement already satisfied: flatbuffers>=23.5.26 in /usr/local/lib/python3.10/dist-packages (from tensorflow==2.15) (24.3.25)\n",
            "Requirement already satisfied: gast!=0.5.0,!=0.5.1,!=0.5.2,>=0.2.1 in /usr/local/lib/python3.10/dist-packages (from tensorflow==2.15) (0.6.0)\n",
            "Requirement already satisfied: google-pasta>=0.1.1 in /usr/local/lib/python3.10/dist-packages (from tensorflow==2.15) (0.2.0)\n",
            "Requirement already satisfied: h5py>=2.9.0 in /usr/local/lib/python3.10/dist-packages (from tensorflow==2.15) (3.12.1)\n",
            "Requirement already satisfied: libclang>=13.0.0 in /usr/local/lib/python3.10/dist-packages (from tensorflow==2.15) (18.1.1)\n",
            "Collecting ml-dtypes~=0.2.0 (from tensorflow==2.15)\n",
            "  Downloading ml_dtypes-0.2.0-cp310-cp310-manylinux_2_17_x86_64.manylinux2014_x86_64.whl.metadata (20 kB)\n",
            "Requirement already satisfied: numpy<2.0.0,>=1.23.5 in /usr/local/lib/python3.10/dist-packages (from tensorflow==2.15) (1.26.4)\n",
            "Requirement already satisfied: opt-einsum>=2.3.2 in /usr/local/lib/python3.10/dist-packages (from tensorflow==2.15) (3.4.0)\n",
            "Requirement already satisfied: packaging in /usr/local/lib/python3.10/dist-packages (from tensorflow==2.15) (24.2)\n",
            "Requirement already satisfied: protobuf!=4.21.0,!=4.21.1,!=4.21.2,!=4.21.3,!=4.21.4,!=4.21.5,<5.0.0dev,>=3.20.3 in /usr/local/lib/python3.10/dist-packages (from tensorflow==2.15) (4.25.5)\n",
            "Requirement already satisfied: setuptools in /usr/local/lib/python3.10/dist-packages (from tensorflow==2.15) (75.1.0)\n",
            "Requirement already satisfied: six>=1.12.0 in /usr/local/lib/python3.10/dist-packages (from tensorflow==2.15) (1.17.0)\n",
            "Requirement already satisfied: termcolor>=1.1.0 in /usr/local/lib/python3.10/dist-packages (from tensorflow==2.15) (2.5.0)\n",
            "Requirement already satisfied: typing-extensions>=3.6.6 in /usr/local/lib/python3.10/dist-packages (from tensorflow==2.15) (4.12.2)\n",
            "Collecting wrapt<1.15,>=1.11.0 (from tensorflow==2.15)\n",
            "  Downloading wrapt-1.14.1-cp310-cp310-manylinux_2_5_x86_64.manylinux1_x86_64.manylinux_2_17_x86_64.manylinux2014_x86_64.whl.metadata (6.7 kB)\n",
            "Requirement already satisfied: tensorflow-io-gcs-filesystem>=0.23.1 in /usr/local/lib/python3.10/dist-packages (from tensorflow==2.15) (0.37.1)\n",
            "Requirement already satisfied: grpcio<2.0,>=1.24.3 in /usr/local/lib/python3.10/dist-packages (from tensorflow==2.15) (1.68.1)\n",
            "Collecting tensorboard<2.16,>=2.15 (from tensorflow==2.15)\n",
            "  Downloading tensorboard-2.15.2-py3-none-any.whl.metadata (1.7 kB)\n",
            "Collecting tensorflow-estimator<2.16,>=2.15.0 (from tensorflow==2.15)\n",
            "  Downloading tensorflow_estimator-2.15.0-py2.py3-none-any.whl.metadata (1.3 kB)\n",
            "Collecting keras<2.16,>=2.15.0 (from tensorflow==2.15)\n",
            "  Downloading keras-2.15.0-py3-none-any.whl.metadata (2.4 kB)\n",
            "Requirement already satisfied: wheel<1.0,>=0.23.0 in /usr/local/lib/python3.10/dist-packages (from astunparse>=1.6.0->tensorflow==2.15) (0.45.1)\n",
            "Requirement already satisfied: google-auth<3,>=1.6.3 in /usr/local/lib/python3.10/dist-packages (from tensorboard<2.16,>=2.15->tensorflow==2.15) (2.27.0)\n",
            "Requirement already satisfied: google-auth-oauthlib<2,>=0.5 in /usr/local/lib/python3.10/dist-packages (from tensorboard<2.16,>=2.15->tensorflow==2.15) (1.2.1)\n",
            "Requirement already satisfied: markdown>=2.6.8 in /usr/local/lib/python3.10/dist-packages (from tensorboard<2.16,>=2.15->tensorflow==2.15) (3.7)\n",
            "Requirement already satisfied: requests<3,>=2.21.0 in /usr/local/lib/python3.10/dist-packages (from tensorboard<2.16,>=2.15->tensorflow==2.15) (2.32.3)\n",
            "Requirement already satisfied: tensorboard-data-server<0.8.0,>=0.7.0 in /usr/local/lib/python3.10/dist-packages (from tensorboard<2.16,>=2.15->tensorflow==2.15) (0.7.2)\n",
            "Requirement already satisfied: werkzeug>=1.0.1 in /usr/local/lib/python3.10/dist-packages (from tensorboard<2.16,>=2.15->tensorflow==2.15) (3.1.3)\n",
            "Requirement already satisfied: cachetools<6.0,>=2.0.0 in /usr/local/lib/python3.10/dist-packages (from google-auth<3,>=1.6.3->tensorboard<2.16,>=2.15->tensorflow==2.15) (5.5.0)\n",
            "Requirement already satisfied: pyasn1-modules>=0.2.1 in /usr/local/lib/python3.10/dist-packages (from google-auth<3,>=1.6.3->tensorboard<2.16,>=2.15->tensorflow==2.15) (0.4.1)\n",
            "Requirement already satisfied: rsa<5,>=3.1.4 in /usr/local/lib/python3.10/dist-packages (from google-auth<3,>=1.6.3->tensorboard<2.16,>=2.15->tensorflow==2.15) (4.9)\n",
            "Requirement already satisfied: requests-oauthlib>=0.7.0 in /usr/local/lib/python3.10/dist-packages (from google-auth-oauthlib<2,>=0.5->tensorboard<2.16,>=2.15->tensorflow==2.15) (1.3.1)\n",
            "Requirement already satisfied: charset-normalizer<4,>=2 in /usr/local/lib/python3.10/dist-packages (from requests<3,>=2.21.0->tensorboard<2.16,>=2.15->tensorflow==2.15) (3.4.0)\n",
            "Requirement already satisfied: idna<4,>=2.5 in /usr/local/lib/python3.10/dist-packages (from requests<3,>=2.21.0->tensorboard<2.16,>=2.15->tensorflow==2.15) (3.10)\n",
            "Requirement already satisfied: urllib3<3,>=1.21.1 in /usr/local/lib/python3.10/dist-packages (from requests<3,>=2.21.0->tensorboard<2.16,>=2.15->tensorflow==2.15) (2.2.3)\n",
            "Requirement already satisfied: certifi>=2017.4.17 in /usr/local/lib/python3.10/dist-packages (from requests<3,>=2.21.0->tensorboard<2.16,>=2.15->tensorflow==2.15) (2024.12.14)\n",
            "Requirement already satisfied: MarkupSafe>=2.1.1 in /usr/local/lib/python3.10/dist-packages (from werkzeug>=1.0.1->tensorboard<2.16,>=2.15->tensorflow==2.15) (3.0.2)\n",
            "Requirement already satisfied: pyasn1<0.7.0,>=0.4.6 in /usr/local/lib/python3.10/dist-packages (from pyasn1-modules>=0.2.1->google-auth<3,>=1.6.3->tensorboard<2.16,>=2.15->tensorflow==2.15) (0.6.1)\n",
            "Requirement already satisfied: oauthlib>=3.0.0 in /usr/local/lib/python3.10/dist-packages (from requests-oauthlib>=0.7.0->google-auth-oauthlib<2,>=0.5->tensorboard<2.16,>=2.15->tensorflow==2.15) (3.2.2)\n",
            "Downloading tensorflow-2.15.0-cp310-cp310-manylinux_2_17_x86_64.manylinux2014_x86_64.whl (475.2 MB)\n",
            "\u001b[2K   \u001b[90m━━━━━━━━━━━━━━━━━━━━━━━━━━━━━━━━━━━━━━━━\u001b[0m \u001b[32m475.2/475.2 MB\u001b[0m \u001b[31m1.4 MB/s\u001b[0m eta \u001b[36m0:00:00\u001b[0m\n",
            "\u001b[?25hDownloading keras-2.15.0-py3-none-any.whl (1.7 MB)\n",
            "\u001b[2K   \u001b[90m━━━━━━━━━━━━━━━━━━━━━━━━━━━━━━━━━━━━━━━━\u001b[0m \u001b[32m1.7/1.7 MB\u001b[0m \u001b[31m53.6 MB/s\u001b[0m eta \u001b[36m0:00:00\u001b[0m\n",
            "\u001b[?25hDownloading ml_dtypes-0.2.0-cp310-cp310-manylinux_2_17_x86_64.manylinux2014_x86_64.whl (1.0 MB)\n",
            "\u001b[2K   \u001b[90m━━━━━━━━━━━━━━━━━━━━━━━━━━━━━━━━━━━━━━━━\u001b[0m \u001b[32m1.0/1.0 MB\u001b[0m \u001b[31m46.8 MB/s\u001b[0m eta \u001b[36m0:00:00\u001b[0m\n",
            "\u001b[?25hDownloading tensorboard-2.15.2-py3-none-any.whl (5.5 MB)\n",
            "\u001b[2K   \u001b[90m━━━━━━━━━━━━━━━━━━━━━━━━━━━━━━━━━━━━━━━━\u001b[0m \u001b[32m5.5/5.5 MB\u001b[0m \u001b[31m96.6 MB/s\u001b[0m eta \u001b[36m0:00:00\u001b[0m\n",
            "\u001b[?25hDownloading tensorflow_estimator-2.15.0-py2.py3-none-any.whl (441 kB)\n",
            "\u001b[2K   \u001b[90m━━━━━━━━━━━━━━━━━━━━━━━━━━━━━━━━━━━━━━━━\u001b[0m \u001b[32m442.0/442.0 kB\u001b[0m \u001b[31m33.1 MB/s\u001b[0m eta \u001b[36m0:00:00\u001b[0m\n",
            "\u001b[?25hDownloading wrapt-1.14.1-cp310-cp310-manylinux_2_5_x86_64.manylinux1_x86_64.manylinux_2_17_x86_64.manylinux2014_x86_64.whl (77 kB)\n",
            "\u001b[2K   \u001b[90m━━━━━━━━━━━━━━━━━━━━━━━━━━━━━━━━━━━━━━━━\u001b[0m \u001b[32m77.9/77.9 kB\u001b[0m \u001b[31m6.7 MB/s\u001b[0m eta \u001b[36m0:00:00\u001b[0m\n",
            "\u001b[?25hInstalling collected packages: wrapt, tensorflow-estimator, ml-dtypes, keras, tensorboard, tensorflow\n",
            "  Attempting uninstall: wrapt\n",
            "    Found existing installation: wrapt 1.17.0\n",
            "    Uninstalling wrapt-1.17.0:\n",
            "      Successfully uninstalled wrapt-1.17.0\n",
            "  Attempting uninstall: ml-dtypes\n",
            "    Found existing installation: ml-dtypes 0.4.1\n",
            "    Uninstalling ml-dtypes-0.4.1:\n",
            "      Successfully uninstalled ml-dtypes-0.4.1\n",
            "  Attempting uninstall: keras\n",
            "    Found existing installation: keras 3.5.0\n",
            "    Uninstalling keras-3.5.0:\n",
            "      Successfully uninstalled keras-3.5.0\n",
            "  Attempting uninstall: tensorboard\n",
            "    Found existing installation: tensorboard 2.17.1\n",
            "    Uninstalling tensorboard-2.17.1:\n",
            "      Successfully uninstalled tensorboard-2.17.1\n",
            "\u001b[31mERROR: pip's dependency resolver does not currently take into account all the packages that are installed. This behaviour is the source of the following dependency conflicts.\n",
            "tensorstore 0.1.71 requires ml_dtypes>=0.3.1, but you have ml-dtypes 0.2.0 which is incompatible.\n",
            "tf-keras 2.17.0 requires tensorflow<2.18,>=2.17, but you have tensorflow 2.15.0 which is incompatible.\u001b[0m\u001b[31m\n",
            "\u001b[0mSuccessfully installed keras-2.15.0 ml-dtypes-0.2.0 tensorboard-2.15.2 tensorflow-2.15.0 tensorflow-estimator-2.15.0 wrapt-1.14.1\n"
          ]
        }
      ],
      "source": [
        "# Using Tf 2.15 cz ... well its easy to use\n",
        "!pip uninstall -y tensorflow\n",
        "!pip install tensorflow==2.15"
      ]
    },
    {
      "cell_type": "code",
      "execution_count": null,
      "metadata": {
        "colab": {
          "base_uri": "https://localhost:8080/"
        },
        "id": "BhSkd-qLd0Hc",
        "outputId": "0e273339-a068-4a8d-82b0-aad02df403ba"
      },
      "outputs": [
        {
          "name": "stdout",
          "output_type": "stream",
          "text": [
            "2.15.0\n"
          ]
        }
      ],
      "source": [
        "import tensorflow as tf\n",
        "print(tf.__version__)"
      ]
    },
    {
      "cell_type": "code",
      "execution_count": null,
      "metadata": {
        "colab": {
          "base_uri": "https://localhost:8080/"
        },
        "id": "8s3JKFe-hDwt",
        "outputId": "b88a8834-bbd7-419b-c115-9506ad0546c3"
      },
      "outputs": [
        {
          "name": "stdout",
          "output_type": "stream",
          "text": [
            "Mounted at /content/drive\n"
          ]
        }
      ],
      "source": [
        "#Mounting drive cz google wants me to\n",
        "from google.colab import drive\n",
        "drive.mount('/content/drive')"
      ]
    },
    {
      "cell_type": "markdown",
      "metadata": {
        "id": "DVNX91uYeEcp"
      },
      "source": [
        "Works!! Lets get going\n",
        "\n",
        "\n"
      ]
    },
    {
      "cell_type": "code",
      "execution_count": null,
      "metadata": {
        "id": "LaCHvS0XeJTc"
      },
      "outputs": [],
      "source": [
        "# All the importing stuff\n",
        "import numpy as np\n",
        "import pandas as pd\n",
        "import matplotlib.pyplot as plt\n",
        "import seaborn as sns\n",
        "import cv2\n",
        "import os\n",
        "import random\n",
        "import tensorflow as tf\n",
        "import seaborn as sns\n",
        "import zipfile #Bcz we don't have hugeeee enough storage :'(\n",
        "from matplotlib import image\n",
        "from sklearn.metrics import confusion_matrix\n",
        "from sklearn import metrics\n",
        "from keras.preprocessing.image import ImageDataGenerator\n",
        "from keras.applications.vgg16 import VGG16\n",
        "from keras.applications.vgg19 import VGG19\n",
        "from keras.models import Sequential\n",
        "from keras.layers import Dense, Flatten, Dropout, Conv2D, MaxPooling2D\n",
        "from keras.callbacks import ModelCheckpoint, ReduceLROnPlateau, EarlyStopping, ReduceLROnPlateau\n",
        "from tensorflow.keras.optimizers import Adam\n",
        "from tensorflow.keras.models import load_model\n",
        "\n"
      ]
    },
    {
      "cell_type": "code",
      "execution_count": null,
      "metadata": {
        "colab": {
          "base_uri": "https://localhost:8080/"
        },
        "id": "DvWKOS4jek_o",
        "outputId": "25ab2290-d611-4220-ef66-0a1536c17301"
      },
      "outputs": [
        {
          "name": "stdout",
          "output_type": "stream",
          "text": [
            "Dataset extracted to: /content/dataset/EuroSAT\n",
            "Training set size: 18900 (70%)\n",
            "Validation set size: 5400 (20%)\n",
            "Test set size: 2700 (10%)\n",
            "Building training set...\n",
            "Found 18900 validated image filenames belonging to 10 classes.\n",
            "\n",
            "Building validation set...\n",
            "Found 5400 validated image filenames belonging to 10 classes.\n",
            "\n",
            "Building test set...\n",
            "Found 2700 validated image filenames belonging to 10 classes.\n"
          ]
        }
      ],
      "source": [
        "#Unzip~~~\n",
        "zip_path = '/content/drive/MyDrive/EuroSAT.zip'\n",
        "extract_path = '/content/dataset/EuroSAT'\n",
        "with zipfile.ZipFile(zip_path, 'r') as zip_ref:\n",
        "    zip_ref.extractall(extract_path)\n",
        "print(f\"Dataset extracted to: {extract_path}\")\n",
        "dataset_folder = '/content/dataset/EuroSAT/'\n",
        "train_csv_path = '/content/drive/MyDrive/train.csv'\n",
        "validation_csv_path = '/content/drive/MyDrive/validation.csv'\n",
        "test_csv_path = '/content/drive/MyDrive/test.csv'\n",
        "column_names = [\"id\", \"path\", \"class_id\", \"class_name\"]\n",
        "training_df = pd.read_csv(train_csv_path, names=column_names, skiprows=1)\n",
        "validation_df = pd.read_csv(validation_csv_path, names=column_names, skiprows=1)\n",
        "test_df = pd.read_csv(test_csv_path, names=column_names, skiprows=1)\n",
        "training_df_size = len(training_df)\n",
        "validation_df_size = len(validation_df)\n",
        "test_df_size = len(test_df)\n",
        "total_dataset_size = training_df_size + validation_df_size + test_df_size\n",
        "\n",
        "print(f\"Training set size: {training_df_size} ({round(training_df_size / total_dataset_size * 100)}%)\")\n",
        "print(f\"Validation set size: {validation_df_size} ({round(validation_df_size / total_dataset_size * 100)}%)\")\n",
        "print(f\"Test set size: {test_df_size} ({round(test_df_size / total_dataset_size * 100)}%)\")\n",
        "#making everything equal!!!!!!\n",
        "image_height, image_width = 64, 64\n",
        "batch_size = 64 # Experimental stuff weellll...cz hyperparameter\n",
        "train_generator = ImageDataGenerator(rescale=1./255, validation_split=0.2)\n",
        "validation_generator = ImageDataGenerator(rescale=1./255)\n",
        "print(\"Building training set...\")\n",
        "training_set = train_generator.flow_from_dataframe(\n",
        "    dataframe=training_df,\n",
        "    x_col=\"path\",\n",
        "    y_col=\"class_name\",\n",
        "    directory=dataset_folder,\n",
        "    target_size=(image_height, image_width),\n",
        "    batch_size=batch_size,\n",
        "    class_mode=\"categorical\",\n",
        "    shuffle=True\n",
        ")\n",
        "\n",
        "print(\"\\nBuilding validation set...\")\n",
        "validation_set = validation_generator.flow_from_dataframe(\n",
        "    dataframe=validation_df,\n",
        "    x_col=\"path\",\n",
        "    y_col=\"class_name\",\n",
        "    directory=dataset_folder,\n",
        "    target_size=(image_height, image_width),\n",
        "    batch_size=batch_size,\n",
        "    class_mode=\"categorical\",\n",
        "    shuffle=False\n",
        ")\n",
        "\n",
        "print(\"\\nBuilding test set...\")\n",
        "test_set = validation_generator.flow_from_dataframe(\n",
        "    dataframe=test_df,\n",
        "    x_col=\"path\",\n",
        "    y_col=\"class_name\",\n",
        "    directory=dataset_folder,\n",
        "    target_size=(image_height, image_width),\n",
        "    batch_size=batch_size,\n",
        "    class_mode=\"categorical\",\n",
        "    shuffle=False\n",
        ")\n"
      ]
    },
    {
      "cell_type": "code",
      "execution_count": null,
      "metadata": {
        "colab": {
          "base_uri": "https://localhost:8080/",
          "height": 1000
        },
        "id": "rw7ccTK0kk89",
        "outputId": "f2472f18-61c9-489c-ef2d-78eb8e440a4a"
      },
      "outputs": [
        {
          "name": "stdout",
          "output_type": "stream",
          "text": [
            "[[[[0.4431373  0.44705886 0.42352945]\n",
            "   [0.44705886 0.4431373  0.42352945]\n",
            "   [0.454902   0.4431373  0.42352945]\n",
            "   ...\n",
            "   [0.16862746 0.2784314  0.29411766]\n",
            "   [0.20784315 0.31764707 0.33333334]\n",
            "   [0.21568629 0.32941177 0.34509805]]\n",
            "\n",
            "  [[0.4431373  0.44705886 0.427451  ]\n",
            "   [0.44705886 0.4431373  0.42352945]\n",
            "   [0.454902   0.4431373  0.42352945]\n",
            "   ...\n",
            "   [0.16862746 0.2784314  0.29411766]\n",
            "   [0.20392159 0.31764707 0.33333334]\n",
            "   [0.21568629 0.33333334 0.34117648]]\n",
            "\n",
            "  [[0.43921572 0.43921572 0.43137258]\n",
            "   [0.4431373  0.43921572 0.42352945]\n",
            "   [0.454902   0.43921572 0.427451  ]\n",
            "   ...\n",
            "   [0.18823531 0.29803923 0.3137255 ]\n",
            "   [0.21568629 0.33333334 0.34117648]\n",
            "   [0.21568629 0.34117648 0.3372549 ]]\n",
            "\n",
            "  ...\n",
            "\n",
            "  [[0.22352943 0.36078432 0.33333334]\n",
            "   [0.23529413 0.3647059  0.3372549 ]\n",
            "   [0.25490198 0.36078432 0.34117648]\n",
            "   ...\n",
            "   [0.16470589 0.3019608  0.30980393]\n",
            "   [0.18431373 0.30588236 0.3254902 ]\n",
            "   [0.1764706  0.2901961  0.3137255 ]]\n",
            "\n",
            "  [[0.21568629 0.37254903 0.32941177]\n",
            "   [0.22352943 0.37254903 0.32941177]\n",
            "   [0.24705884 0.36862746 0.34509805]\n",
            "   ...\n",
            "   [0.16862746 0.3019608  0.30980393]\n",
            "   [0.18431373 0.30588236 0.3254902 ]\n",
            "   [0.16470589 0.2784314  0.3019608 ]]\n",
            "\n",
            "  [[0.20784315 0.37254903 0.3254902 ]\n",
            "   [0.21176472 0.36862746 0.3254902 ]\n",
            "   [0.25490198 0.37647063 0.3529412 ]\n",
            "   ...\n",
            "   [0.16078432 0.29411766 0.3019608 ]\n",
            "   [0.1764706  0.2901961  0.3137255 ]\n",
            "   [0.16470589 0.2784314  0.3019608 ]]]\n",
            "\n",
            "\n",
            " [[[0.18039216 0.28235295 0.33333334]\n",
            "   [0.1764706  0.28627452 0.32941177]\n",
            "   [0.19215688 0.30980393 0.34117648]\n",
            "   ...\n",
            "   [0.12941177 0.227451   0.3137255 ]\n",
            "   [0.13333334 0.23137257 0.31764707]\n",
            "   [0.13725491 0.23529413 0.32156864]]\n",
            "\n",
            "  [[0.18039216 0.28235295 0.33333334]\n",
            "   [0.1764706  0.28627452 0.32941177]\n",
            "   [0.19215688 0.30980393 0.34117648]\n",
            "   ...\n",
            "   [0.12941177 0.227451   0.3137255 ]\n",
            "   [0.13333334 0.23137257 0.31764707]\n",
            "   [0.13725491 0.23529413 0.32156864]]\n",
            "\n",
            "  [[0.16470589 0.26666668 0.31764707]\n",
            "   [0.16078432 0.27058825 0.3137255 ]\n",
            "   [0.18431373 0.3137255  0.33333334]\n",
            "   ...\n",
            "   [0.12941177 0.23137257 0.32156864]\n",
            "   [0.13725491 0.23529413 0.32156864]\n",
            "   [0.15294118 0.2509804  0.3372549 ]]\n",
            "\n",
            "  ...\n",
            "\n",
            "  [[0.16470589 0.28627452 0.35686275]\n",
            "   [0.16862746 0.2901961  0.36078432]\n",
            "   [0.16470589 0.28627452 0.35686275]\n",
            "   ...\n",
            "   [0.19215688 0.29411766 0.34509805]\n",
            "   [0.18823531 0.2901961  0.34901962]\n",
            "   [0.18823531 0.2901961  0.35686275]]\n",
            "\n",
            "  [[0.16470589 0.2901961  0.34901962]\n",
            "   [0.16862746 0.29411766 0.3529412 ]\n",
            "   [0.16470589 0.29411766 0.3529412 ]\n",
            "   ...\n",
            "   [0.18823531 0.2901961  0.34901962]\n",
            "   [0.18823531 0.2901961  0.34901962]\n",
            "   [0.18823531 0.2901961  0.34901962]]\n",
            "\n",
            "  [[0.16862746 0.29411766 0.3529412 ]\n",
            "   [0.16862746 0.29411766 0.3529412 ]\n",
            "   [0.16862746 0.29803923 0.35686275]\n",
            "   ...\n",
            "   [0.18823531 0.2901961  0.34901962]\n",
            "   [0.19215688 0.29411766 0.3529412 ]\n",
            "   [0.19215688 0.29411766 0.3529412 ]]]\n",
            "\n",
            "\n",
            " [[[0.17254902 0.26666668 0.3137255 ]\n",
            "   [0.17254902 0.26666668 0.3137255 ]\n",
            "   [0.16862746 0.27058825 0.32156864]\n",
            "   ...\n",
            "   [0.16862746 0.25882354 0.3137255 ]\n",
            "   [0.17254902 0.2627451  0.31764707]\n",
            "   [0.18823531 0.2784314  0.33333334]]\n",
            "\n",
            "  [[0.17254902 0.26666668 0.3137255 ]\n",
            "   [0.17254902 0.26666668 0.3137255 ]\n",
            "   [0.16470589 0.26666668 0.31764707]\n",
            "   ...\n",
            "   [0.16862746 0.25882354 0.3137255 ]\n",
            "   [0.1764706  0.26666668 0.32156864]\n",
            "   [0.18431373 0.27450982 0.32941177]]\n",
            "\n",
            "  [[0.16078432 0.26666668 0.30980393]\n",
            "   [0.16078432 0.26666668 0.30980393]\n",
            "   [0.15686275 0.25882354 0.30980393]\n",
            "   ...\n",
            "   [0.16862746 0.27450982 0.31764707]\n",
            "   [0.16470589 0.26666668 0.31764707]\n",
            "   [0.15294118 0.25490198 0.30588236]]\n",
            "\n",
            "  ...\n",
            "\n",
            "  [[0.15686275 0.26666668 0.3137255 ]\n",
            "   [0.15686275 0.26666668 0.3137255 ]\n",
            "   [0.15686275 0.25882354 0.30980393]\n",
            "   ...\n",
            "   [0.16078432 0.26666668 0.30980393]\n",
            "   [0.16078432 0.2627451  0.3137255 ]\n",
            "   [0.16078432 0.2627451  0.3137255 ]]\n",
            "\n",
            "  [[0.16078432 0.26666668 0.30980393]\n",
            "   [0.16078432 0.2627451  0.3137255 ]\n",
            "   [0.15686275 0.25882354 0.30980393]\n",
            "   ...\n",
            "   [0.16078432 0.2627451  0.3137255 ]\n",
            "   [0.15686275 0.26666668 0.3137255 ]\n",
            "   [0.16078432 0.27058825 0.31764707]]\n",
            "\n",
            "  [[0.15686275 0.2627451  0.30588236]\n",
            "   [0.15686275 0.2627451  0.30588236]\n",
            "   [0.15686275 0.25882354 0.31764707]\n",
            "   ...\n",
            "   [0.16862746 0.27058825 0.32156864]\n",
            "   [0.16078432 0.27058825 0.31764707]\n",
            "   [0.16078432 0.27058825 0.31764707]]]\n",
            "\n",
            "\n",
            " ...\n",
            "\n",
            "\n",
            " [[[0.49411768 0.45098042 0.4666667 ]\n",
            "   [0.49803925 0.45098042 0.45882356]\n",
            "   [0.6039216  0.5254902  0.53333336]\n",
            "   ...\n",
            "   [0.4431373  0.40784317 0.427451  ]\n",
            "   [0.39607847 0.37254903 0.41176474]\n",
            "   [0.4156863  0.4039216  0.44705886]]\n",
            "\n",
            "  [[0.49411768 0.45098042 0.47450984]\n",
            "   [0.5058824  0.44705886 0.4666667 ]\n",
            "   [0.6039216  0.5254902  0.53333336]\n",
            "   ...\n",
            "   [0.43529415 0.40784317 0.43529415]\n",
            "   [0.39607847 0.37254903 0.41176474]\n",
            "   [0.4156863  0.4039216  0.44705886]]\n",
            "\n",
            "  [[0.45882356 0.40784317 0.44705886]\n",
            "   [0.4666667  0.40784317 0.43529415]\n",
            "   [0.5921569  0.50980395 0.5294118 ]\n",
            "   ...\n",
            "   [0.38823533 0.36862746 0.39607847]\n",
            "   [0.4039216  0.3803922  0.41960788]\n",
            "   [0.50980395 0.48627454 0.5254902 ]]\n",
            "\n",
            "  ...\n",
            "\n",
            "  [[0.33333334 0.3529412  0.37647063]\n",
            "   [0.33333334 0.3529412  0.37647063]\n",
            "   [0.38823533 0.38823533 0.41960788]\n",
            "   ...\n",
            "   [0.32156864 0.38431376 0.43529415]\n",
            "   [0.19607845 0.27450982 0.3019608 ]\n",
            "   [0.227451   0.32156864 0.3372549 ]]\n",
            "\n",
            "  [[0.36078432 0.37254903 0.3921569 ]\n",
            "   [0.36078432 0.37254903 0.3921569 ]\n",
            "   [0.38823533 0.3921569  0.41176474]\n",
            "   ...\n",
            "   [0.2627451  0.3137255  0.37647063]\n",
            "   [0.21568629 0.28627452 0.3254902 ]\n",
            "   [0.25882354 0.3372549  0.3647059 ]]\n",
            "\n",
            "  [[0.36078432 0.37254903 0.3921569 ]\n",
            "   [0.3647059  0.37647063 0.39607847]\n",
            "   [0.38823533 0.38431376 0.40784317]\n",
            "   ...\n",
            "   [0.32156864 0.36862746 0.43137258]\n",
            "   [0.227451   0.29803923 0.34509805]\n",
            "   [0.2627451  0.34117648 0.37647063]]]\n",
            "\n",
            "\n",
            " [[[0.37647063 0.3921569  0.38823533]\n",
            "   [0.37647063 0.3921569  0.38823533]\n",
            "   [0.39607847 0.39607847 0.39607847]\n",
            "   ...\n",
            "   [0.227451   0.26666668 0.3137255 ]\n",
            "   [0.20000002 0.24705884 0.30980393]\n",
            "   [0.19215688 0.24313727 0.30980393]]\n",
            "\n",
            "  [[0.3921569  0.3921569  0.38431376]\n",
            "   [0.3921569  0.3921569  0.3921569 ]\n",
            "   [0.39607847 0.39607847 0.39607847]\n",
            "   ...\n",
            "   [0.23137257 0.2627451  0.30588236]\n",
            "   [0.20000002 0.24705884 0.30980393]\n",
            "   [0.18823531 0.2392157  0.30588236]]\n",
            "\n",
            "  [[0.47450984 0.4431373  0.43529415]\n",
            "   [0.4666667  0.4431373  0.4431373 ]\n",
            "   [0.43529415 0.43529415 0.4431373 ]\n",
            "   ...\n",
            "   [0.2509804  0.26666668 0.30980393]\n",
            "   [0.21176472 0.25882354 0.3137255 ]\n",
            "   [0.20392159 0.26666668 0.3254902 ]]\n",
            "\n",
            "  ...\n",
            "\n",
            "  [[0.46274513 0.4666667  0.44705886]\n",
            "   [0.46274513 0.4666667  0.44705886]\n",
            "   [0.42352945 0.43137258 0.427451  ]\n",
            "   ...\n",
            "   [0.18039216 0.27450982 0.3137255 ]\n",
            "   [0.16470589 0.25882354 0.30588236]\n",
            "   [0.15294118 0.25882354 0.3019608 ]]\n",
            "\n",
            "  [[0.35686275 0.40000004 0.37647063]\n",
            "   [0.36078432 0.4039216  0.3803922 ]\n",
            "   [0.36078432 0.39607847 0.38431376]\n",
            "   ...\n",
            "   [0.14509805 0.23137257 0.28627452]\n",
            "   [0.14509805 0.23137257 0.28627452]\n",
            "   [0.13333334 0.22352943 0.2784314 ]]\n",
            "\n",
            "  [[0.31764707 0.38431376 0.3529412 ]\n",
            "   [0.32156864 0.3803922  0.3529412 ]\n",
            "   [0.36078432 0.40784317 0.40000004]\n",
            "   ...\n",
            "   [0.13725491 0.21176472 0.2784314 ]\n",
            "   [0.12941177 0.21176472 0.2784314 ]\n",
            "   [0.11764707 0.20000002 0.26666668]]]\n",
            "\n",
            "\n",
            " [[[0.30980393 0.3647059  0.40784317]\n",
            "   [0.30980393 0.3647059  0.4156863 ]\n",
            "   [0.29803923 0.36078432 0.41960788]\n",
            "   ...\n",
            "   [0.59607846 0.49411768 0.49803925]\n",
            "   [0.6156863  0.5058824  0.5019608 ]\n",
            "   [0.62352943 0.5137255  0.50980395]]\n",
            "\n",
            "  [[0.3137255  0.3647059  0.40000004]\n",
            "   [0.30588236 0.36078432 0.4039216 ]\n",
            "   [0.29803923 0.36078432 0.41960788]\n",
            "   ...\n",
            "   [0.6039216  0.49411768 0.4901961 ]\n",
            "   [0.6156863  0.5058824  0.5019608 ]\n",
            "   [0.62352943 0.5137255  0.50980395]]\n",
            "\n",
            "  [[0.36078432 0.39607847 0.4156863 ]\n",
            "   [0.36078432 0.40000004 0.43529415]\n",
            "   [0.25882354 0.32156864 0.3803922 ]\n",
            "   ...\n",
            "   [0.6117647  0.49411768 0.49411768]\n",
            "   [0.61960787 0.5019608  0.5019608 ]\n",
            "   [0.6392157  0.52156866 0.5137255 ]]\n",
            "\n",
            "  ...\n",
            "\n",
            "  [[0.48235297 0.4156863  0.44705886]\n",
            "   [0.48235297 0.4156863  0.43921572]\n",
            "   [0.49803925 0.43137258 0.454902  ]\n",
            "   ...\n",
            "   [0.32941177 0.32156864 0.37647063]\n",
            "   [0.33333334 0.32156864 0.38823533]\n",
            "   [0.33333334 0.32156864 0.38823533]]\n",
            "\n",
            "  [[0.5058824  0.43137258 0.454902  ]\n",
            "   [0.5058824  0.43137258 0.454902  ]\n",
            "   [0.5019608  0.427451   0.45098042]\n",
            "   ...\n",
            "   [0.3372549  0.32941177 0.38431376]\n",
            "   [0.34117648 0.3254902  0.3921569 ]\n",
            "   [0.34117648 0.3254902  0.3921569 ]]\n",
            "\n",
            "  [[0.50980395 0.43529415 0.45098042]\n",
            "   [0.50980395 0.43529415 0.45098042]\n",
            "   [0.49411768 0.41960788 0.4431373 ]\n",
            "   ...\n",
            "   [0.3372549  0.32941177 0.38431376]\n",
            "   [0.3372549  0.32156864 0.38823533]\n",
            "   [0.3372549  0.32156864 0.38823533]]]]\n"
          ]
        },
        {
          "data": {
            "image/png": "[encoded data removed]",
            "text/plain": [
              "<Figure size 1000x500 with 10 Axes>"
            ]
          },
          "metadata": {},
          "output_type": "display_data"
        }
      ],
      "source": [
        "class_name_list = np.array(list(training_set.class_indices.keys()))\n",
        "labels, count = np.unique(training_set.classes, return_counts=True)\n",
        "#image size and stuff\n",
        "figure_height = 2\n",
        "figure_width = 5\n",
        "figure_size = (10, 5)\n",
        "images, class_ids = next(training_set)\n",
        "plt.figure(figsize=figure_size)\n",
        "already_used_labels = []\n",
        "\n",
        "imgs_to_plot = []\n",
        "labels_to_plot = []\n",
        "print(images)\n",
        "\n",
        "# An image from each class!!!\n",
        "\n",
        "while len(imgs_to_plot) < 9:\n",
        "    for idx in range(len(images)):\n",
        "        if class_name_list[class_ids[idx].astype(bool)][0] in already_used_labels:\n",
        "            pass\n",
        "        else:\n",
        "            imgs_to_plot.append(images[idx])\n",
        "            labels_to_plot.append(class_name_list[class_ids[idx].astype(bool)][0])\n",
        "            already_used_labels.append(class_name_list[class_ids[idx].astype(bool)][0])\n",
        "\n",
        "for index in range(figure_height * figure_width):\n",
        "    plt.subplot(figure_height, figure_width, index + 1)\n",
        "    plt.imshow(imgs_to_plot[index])\n",
        "    plt.title(labels_to_plot[index])\n",
        "    plt.axis(\"off\")\n",
        "\n",
        "plt.savefig(\"/content/images_examples.png\") #Saving cz...welll...juuuust in case!!!"
      ]
    },
    {
      "cell_type": "code",
      "execution_count": null,
      "metadata": {
        "id": "uavATrmrZI1M"
      },
      "outputs": [],
      "source": [
        "#Really simple and dumb model to begin with lets see how far it takes us\n",
        "#4 Conv. Layers(32,64,128,128 kernels of 3x3) ->Flatten->Dense->Dropout->Dense(10) cz 10 classes\n",
        "model = Sequential([\n",
        "    Conv2D(32, (3, 3), activation='relu', input_shape=(64, 64, 3)), #rectified linear unit (aka be positive)\n",
        "    MaxPooling2D((2, 2)),\n",
        "\n",
        "    Conv2D(64, (3, 3), activation='relu'),\n",
        "    MaxPooling2D((2, 2)),\n",
        "\n",
        "    Conv2D(128, (3, 3), activation='relu'),\n",
        "    MaxPooling2D((2, 2)),\n",
        "\n",
        "    Conv2D(128, (3, 3), activation='relu'),\n",
        "    MaxPooling2D((2, 2)),\n",
        "\n",
        "    Flatten(),\n",
        "    Dense(512, activation='relu'),\n",
        "    Dropout(0.5),\n",
        "    Dense(10, activation='softmax') #softmax layer -> e**x/Sigma(e**x)\n",
        "])"
      ]
    },
    {
      "cell_type": "code",
      "execution_count": null,
      "metadata": {
        "id": "gQA4iZD0ZI6G"
      },
      "outputs": [],
      "source": [
        "model.compile(\n",
        "    optimizer=Adam(learning_rate=1e-4), # Tested, low enough because anything high creaated problems, ofc can't afford anything below this due to GPU!!!\n",
        "    loss='categorical_crossentropy',\n",
        "    metrics=['accuracy']\n",
        ")"
      ]
    },
    {
      "cell_type": "code",
      "execution_count": null,
      "metadata": {
        "id": "4k_iV7sHcSYw"
      },
      "outputs": [],
      "source": [
        "model_path = \"/content/eurosat_simple_cnn_model.h5\"\n",
        "checkpoint = ModelCheckpoint(filepath=model_path, monitor=\"val_loss\", save_best_only=True) #best saved\n",
        "reduce_lr = ReduceLROnPlateau(monitor=\"val_loss\", factor=0.1, patience=5) #Learning rate reduces when plateau(ofc)\n",
        "early_stopping = EarlyStopping(monitor=\"val_loss\", patience=10, restore_best_weights=True, verbose=1) #It is what it is\n",
        "callback_list = [checkpoint, early_stopping, reduce_lr]"
      ]
    },
    {
      "cell_type": "code",
      "execution_count": null,
      "metadata": {
        "colab": {
          "background_save": true,
          "base_uri": "https://localhost:8080/"
        },
        "id": "mOS16KN8cScW",
        "outputId": "15ba695c-cab8-4351-8856-7d723ad6548f"
      },
      "outputs": [
        {
          "name": "stdout",
          "output_type": "stream",
          "text": [
            "Epoch 1/30\n",
            "296/296 [==============================] - 157s 523ms/step - loss: 1.8040 - accuracy: 0.2958 - val_loss: 1.3806 - val_accuracy: 0.4819 - lr: 1.0000e-04\n",
            "Epoch 2/30\n"
          ]
        },
        {
          "name": "stderr",
          "output_type": "stream",
          "text": [
            "/usr/local/lib/python3.10/dist-packages/keras/src/engine/training.py:3103: UserWarning: You are saving your model as an HDF5 file via `model.save()`. This file format is considered legacy. We recommend using instead the native Keras format, e.g. `model.save('my_model.keras')`.\n",
            "  saving_api.save_model(\n"
          ]
        },
        {
          "name": "stdout",
          "output_type": "stream",
          "text": [
            "296/296 [==============================] - 143s 482ms/step - loss: 1.3369 - accuracy: 0.4674 - val_loss: 1.1863 - val_accuracy: 0.5906 - lr: 1.0000e-04\n",
            "Epoch 3/30\n",
            "296/296 [==============================] - 145s 490ms/step - loss: 1.1717 - accuracy: 0.5626 - val_loss: 1.0435 - val_accuracy: 0.6094 - lr: 1.0000e-04\n",
            "Epoch 4/30\n",
            "296/296 [==============================] - 162s 549ms/step - loss: 1.0331 - accuracy: 0.6268 - val_loss: 0.9063 - val_accuracy: 0.6878 - lr: 1.0000e-04\n",
            "Epoch 5/30\n",
            "296/296 [==============================] - 152s 515ms/step - loss: 0.9460 - accuracy: 0.6628 - val_loss: 0.8683 - val_accuracy: 0.6804 - lr: 1.0000e-04\n",
            "Epoch 6/30\n",
            "296/296 [==============================] - 140s 473ms/step - loss: 0.9086 - accuracy: 0.6698 - val_loss: 0.8243 - val_accuracy: 0.7067 - lr: 1.0000e-04\n",
            "Epoch 7/30\n",
            "296/296 [==============================] - 142s 481ms/step - loss: 0.8573 - accuracy: 0.6921 - val_loss: 0.8276 - val_accuracy: 0.7011 - lr: 1.0000e-04\n",
            "Epoch 8/30\n",
            "296/296 [==============================] - 137s 463ms/step - loss: 0.8372 - accuracy: 0.6942 - val_loss: 0.7515 - val_accuracy: 0.7250 - lr: 1.0000e-04\n",
            "Epoch 9/30\n",
            "296/296 [==============================] - 146s 491ms/step - loss: 0.8216 - accuracy: 0.7006 - val_loss: 0.7369 - val_accuracy: 0.7265 - lr: 1.0000e-04\n",
            "Epoch 10/30\n",
            "296/296 [==============================] - 136s 460ms/step - loss: 0.7925 - accuracy: 0.7119 - val_loss: 0.7683 - val_accuracy: 0.7187 - lr: 1.0000e-04\n",
            "Epoch 11/30\n",
            "296/296 [==============================] - 139s 471ms/step - loss: 0.7783 - accuracy: 0.7153 - val_loss: 0.7403 - val_accuracy: 0.7209 - lr: 1.0000e-04\n",
            "Epoch 12/30\n",
            "296/296 [==============================] - 139s 469ms/step - loss: 0.7732 - accuracy: 0.7165 - val_loss: 0.7521 - val_accuracy: 0.7202 - lr: 1.0000e-04\n",
            "Epoch 13/30\n",
            "296/296 [==============================] - 137s 463ms/step - loss: 0.7501 - accuracy: 0.7258 - val_loss: 0.6908 - val_accuracy: 0.7426 - lr: 1.0000e-04\n",
            "Epoch 14/30\n",
            "296/296 [==============================] - 137s 464ms/step - loss: 0.7384 - accuracy: 0.7266 - val_loss: 0.6780 - val_accuracy: 0.7515 - lr: 1.0000e-04\n",
            "Epoch 15/30\n",
            "296/296 [==============================] - 138s 468ms/step - loss: 0.7272 - accuracy: 0.7327 - val_loss: 0.6570 - val_accuracy: 0.7589 - lr: 1.0000e-04\n",
            "Epoch 16/30\n",
            "296/296 [==============================] - 135s 457ms/step - loss: 0.7032 - accuracy: 0.7411 - val_loss: 0.7130 - val_accuracy: 0.7330 - lr: 1.0000e-04\n",
            "Epoch 17/30\n",
            "296/296 [==============================] - 138s 466ms/step - loss: 0.6984 - accuracy: 0.7405 - val_loss: 0.6697 - val_accuracy: 0.7480 - lr: 1.0000e-04\n",
            "Epoch 18/30\n",
            "296/296 [==============================] - 136s 459ms/step - loss: 0.6840 - accuracy: 0.7471 - val_loss: 0.6462 - val_accuracy: 0.7598 - lr: 1.0000e-04\n",
            "Epoch 19/30\n",
            "296/296 [==============================] - 138s 465ms/step - loss: 0.6766 - accuracy: 0.7504 - val_loss: 0.6381 - val_accuracy: 0.7596 - lr: 1.0000e-04\n",
            "Epoch 20/30\n",
            "296/296 [==============================] - 137s 463ms/step - loss: 0.6774 - accuracy: 0.7512 - val_loss: 0.6213 - val_accuracy: 0.7643 - lr: 1.0000e-04\n",
            "Epoch 21/30\n",
            "296/296 [==============================] - 151s 510ms/step - loss: 0.6554 - accuracy: 0.7565 - val_loss: 0.6085 - val_accuracy: 0.7733 - lr: 1.0000e-04\n",
            "Epoch 22/30\n",
            "296/296 [==============================] - 135s 457ms/step - loss: 0.6738 - accuracy: 0.7514 - val_loss: 0.6578 - val_accuracy: 0.7526 - lr: 1.0000e-04\n",
            "Epoch 23/30\n",
            "296/296 [==============================] - 135s 455ms/step - loss: 0.6419 - accuracy: 0.7650 - val_loss: 0.5977 - val_accuracy: 0.7769 - lr: 1.0000e-04\n",
            "Epoch 24/30\n",
            "296/296 [==============================] - 135s 457ms/step - loss: 0.6407 - accuracy: 0.7620 - val_loss: 0.5902 - val_accuracy: 0.7761 - lr: 1.0000e-04\n",
            "Epoch 25/30\n",
            "244/296 [=======================>......] - ETA: 21s - loss: 0.6343 - accuracy: 0.7674"
          ]
        }
      ],
      "source": [
        "history = model.fit(\n",
        "    training_set,\n",
        "    validation_data=validation_set,\n",
        "    callbacks=callback_list,\n",
        "    epochs=30,\n",
        "    verbose=1,)  #30 epoch cz colab allowed me"
      ]
    },
    {
      "cell_type": "code",
      "execution_count": null,
      "metadata": {
        "id": "Imq0q14ReQDP"
      },
      "outputs": [],
      "source": [
        "plt.figure(figsize=(18, 5))\n",
        "\n",
        "# Plot Loss\n",
        "plt.subplot(1, 2, 1)\n",
        "plt.plot(history.history[\"loss\"], label=\"train_loss\")\n",
        "plt.plot(history.history[\"val_loss\"], label=\"val_loss\")\n",
        "plt.title(\"Loss\")\n",
        "plt.ylabel(\"loss\")\n",
        "plt.xlabel(\"epoch\")\n",
        "plt.legend()\n",
        "\n",
        "# Plot Accuracy\n",
        "plt.subplot(1, 2, 2)\n",
        "plt.plot(history.history[\"accuracy\"], label=\"train_accuracy\")\n",
        "plt.plot(history.history[\"val_accuracy\"], label=\"val_accuracy\")\n",
        "plt.title(\"Accuracy\")\n",
        "plt.ylabel(\"accuracy\")\n",
        "plt.xlabel(\"epoch\")\n",
        "plt.legend()\n",
        "\n",
        "plt.show()\n",
        "plt.savefig(\"/content/eurosat_simple_cnn_accuracy_loss.png\")"
      ]
    },
    {
      "cell_type": "code",
      "execution_count": null,
      "metadata": {
        "id": "5mxzM0_zeQOo"
      },
      "outputs": [],
      "source": [
        "loss, accuracy = model.evaluate(test_set, verbose=1)\n",
        "print(\"Test Loss:\", loss, \"\\nTest Accuracy:\", accuracy)"
      ]
    },
    {
      "cell_type": "markdown",
      "metadata": {
        "id": "XmoAAI2GrFDc"
      },
      "source": [
        "Not bad for that kind of a network at all!!!!"
      ]
    },
    {
      "cell_type": "markdown",
      "metadata": {
        "id": "7j4h_k14rhWJ"
      },
      "source": [
        "Lets Reduce Batch Size"
      ]
    },
    {
      "cell_type": "code",
      "execution_count": null,
      "metadata": {
        "id": "ge00Tw7neQaG"
      },
      "outputs": [],
      "source": [
        "#making everything equal!!!!!!\n",
        "image_height, image_width = 64, 64\n",
        "batch_size = 32 # reduced batch size\n",
        "train_generator = ImageDataGenerator(rescale=1./255, validation_split=0.2)\n",
        "validation_generator = ImageDataGenerator(rescale=1./255)\n",
        "print(\"Building training set...\")\n",
        "training_set = train_generator.flow_from_dataframe(\n",
        "    dataframe=training_df,\n",
        "    x_col=\"path\",\n",
        "    y_col=\"class_name\",\n",
        "    directory=dataset_folder,\n",
        "    target_size=(image_height, image_width),\n",
        "    batch_size=batch_size,\n",
        "    class_mode=\"categorical\",\n",
        "    shuffle=True\n",
        ")\n",
        "\n",
        "print(\"\\nBuilding validation set...\")\n",
        "validation_set = validation_generator.flow_from_dataframe(\n",
        "    dataframe=validation_df,\n",
        "    x_col=\"path\",\n",
        "    y_col=\"class_name\",\n",
        "    directory=dataset_folder,\n",
        "    target_size=(image_height, image_width),\n",
        "    batch_size=batch_size,\n",
        "    class_mode=\"categorical\",\n",
        "    shuffle=False\n",
        ")\n",
        "\n",
        "print(\"\\nBuilding test set...\")\n",
        "test_set = validation_generator.flow_from_dataframe(\n",
        "    dataframe=test_df,\n",
        "    x_col=\"path\",\n",
        "    y_col=\"class_name\",\n",
        "    directory=dataset_folder,\n",
        "    target_size=(image_height, image_width),\n",
        "    batch_size=batch_size,\n",
        "    class_mode=\"categorical\",\n",
        "    shuffle=False\n",
        ")\n"
      ]
    },
    {
      "cell_type": "code",
      "execution_count": null,
      "metadata": {
        "id": "tnB-ibwpgCjz"
      },
      "outputs": [],
      "source": [
        "#Exactly same\n",
        "model = Sequential([\n",
        "    Conv2D(32, (3, 3), activation='relu', input_shape=(64, 64, 3)),\n",
        "    MaxPooling2D((2, 2)),\n",
        "\n",
        "    Conv2D(64, (3, 3), activation='relu'),\n",
        "    MaxPooling2D((2, 2)),\n",
        "\n",
        "    Conv2D(128, (3, 3), activation='relu'),\n",
        "    MaxPooling2D((2, 2)),\n",
        "\n",
        "    Conv2D(128, (3, 3), activation='relu'),\n",
        "    MaxPooling2D((2, 2)),\n",
        "\n",
        "    Flatten(),\n",
        "    Dense(512, activation='relu'),\n",
        "    Dropout(0.5),\n",
        "    Dense(10, activation='softmax')\n",
        "])\n",
        "model.compile(\n",
        "    optimizer=Adam(learning_rate=1e-4),\n",
        "    loss='categorical_crossentropy',\n",
        "    metrics=['accuracy']\n",
        ")\n",
        "model_path = \"/content/eurosat_simple_cnn_model_batch_32.h5\"\n",
        "checkpoint = ModelCheckpoint(filepath=model_path, monitor=\"val_loss\", save_best_only=True)\n",
        "reduce_lr = ReduceLROnPlateau(monitor=\"val_loss\", factor=0.1, patience=5)\n",
        "early_stopping = EarlyStopping(monitor=\"val_loss\", patience=10, restore_best_weights=True, verbose=1)\n",
        "callback_list = [checkpoint, early_stopping, reduce_lr]\n",
        "history = model.fit(\n",
        "    training_set,\n",
        "    validation_data=validation_set,\n",
        "    callbacks=callback_list,\n",
        "    epochs=30,\n",
        "    verbose=1)"
      ]
    },
    {
      "cell_type": "code",
      "execution_count": null,
      "metadata": {
        "id": "Cob6TQD5gCmC"
      },
      "outputs": [],
      "source": [
        "plt.figure(figsize=(18, 5))\n",
        "\n",
        "# Plot Loss\n",
        "plt.subplot(1, 2, 1)\n",
        "plt.plot(history.history[\"loss\"], label=\"train_loss\")\n",
        "plt.plot(history.history[\"val_loss\"], label=\"val_loss\")\n",
        "plt.title(\"Loss\")\n",
        "plt.ylabel(\"loss\")\n",
        "plt.xlabel(\"epoch\")\n",
        "plt.legend()\n",
        "\n",
        "# Plot Accuracy\n",
        "plt.subplot(1, 2, 2)\n",
        "plt.plot(history.history[\"accuracy\"], label=\"train_accuracy\")\n",
        "plt.plot(history.history[\"val_accuracy\"], label=\"val_accuracy\")\n",
        "plt.title(\"Accuracy\")\n",
        "plt.ylabel(\"accuracy\")\n",
        "plt.xlabel(\"epoch\")\n",
        "plt.legend()\n",
        "\n",
        "plt.show()\n",
        "plt.savefig(\"/content/eurosat_simple_cnn_accuracy_loss.png\")"
      ]
    },
    {
      "cell_type": "code",
      "execution_count": null,
      "metadata": {
        "id": "f5coFCmYgCpZ"
      },
      "outputs": [],
      "source": [
        "loss, accuracy = model.evaluate(test_set, verbose=1)\n",
        "print(\"Test Loss:\", loss, \"\\nTest Accuracy:\", accuracy)"
      ]
    },
    {
      "cell_type": "markdown",
      "metadata": {
        "id": "JwCtRHiIr2t3"
      },
      "source": [
        "GOT BETTER!!!"
      ]
    },
    {
      "cell_type": "code",
      "execution_count": null,
      "metadata": {
        "id": "BVVNf2WdjUam"
      },
      "outputs": [],
      "source": [
        "image_height, image_width = 64, 64\n",
        "batch_size = 64 # Again Experimental stuff weellll...cz hyperparameter\n",
        "train_generator = ImageDataGenerator(rescale=1./255, validation_split=0.2)\n",
        "validation_generator = ImageDataGenerator(rescale=1./255)\n",
        "print(\"Building training set...\")\n",
        "training_set = train_generator.flow_from_dataframe(\n",
        "    dataframe=training_df,\n",
        "    x_col=\"path\",\n",
        "    y_col=\"class_name\",\n",
        "    directory=dataset_folder,\n",
        "    target_size=(image_height, image_width),\n",
        "    batch_size=batch_size,\n",
        "    class_mode=\"categorical\",\n",
        "    shuffle=True\n",
        ")\n",
        "\n",
        "print(\"\\nBuilding validation set...\")\n",
        "validation_set = validation_generator.flow_from_dataframe(\n",
        "    dataframe=validation_df,\n",
        "    x_col=\"path\",\n",
        "    y_col=\"class_name\",\n",
        "    directory=dataset_folder,\n",
        "    target_size=(image_height, image_width),\n",
        "    batch_size=batch_size,\n",
        "    class_mode=\"categorical\",\n",
        "    shuffle=False\n",
        ")\n",
        "\n",
        "print(\"\\nBuilding test set...\")\n",
        "test_set = validation_generator.flow_from_dataframe(\n",
        "    dataframe=test_df,\n",
        "    x_col=\"path\",\n",
        "    y_col=\"class_name\",\n",
        "    directory=dataset_folder,\n",
        "    target_size=(image_height, image_width),\n",
        "    batch_size=batch_size,\n",
        "    class_mode=\"categorical\",\n",
        "    shuffle=False\n",
        ")\n"
      ]
    },
    {
      "cell_type": "code",
      "execution_count": null,
      "metadata": {
        "id": "vK-2KAnTxYNc"
      },
      "outputs": [],
      "source": [
        "#Say Hello to VGG-Visual Geometry Group, A CNN for simple and effective image classification developed in 2014 by Oxford\n",
        "base_vgg16 = VGG16(include_top=False,\n",
        "                   weights=None, #lets go random!!!!!!!\n",
        "                   input_tensor=None,\n",
        "                   input_shape=(64, 64, 3),\n",
        "                   pooling=None,\n",
        "                   classes=10,\n",
        "                   classifier_activation='softmax')"
      ]
    },
    {
      "cell_type": "code",
      "execution_count": null,
      "metadata": {
        "id": "JiIZ11xNxX-b"
      },
      "outputs": [],
      "source": [
        "class_count = len(class_name_list) #How many classes there exist\n",
        "print(tf.__version__)\n",
        "model = Sequential()\n",
        "model.add(base_vgg16)\n",
        "model.add(Flatten())\n",
        "model.add(Dropout(0.5))\n",
        "model.add(Dense(units=512, activation=\"relu\", kernel_initializer=\"he_normal\"))\n",
        "model.add(Dense(class_count, activation=\"softmax\"))\n",
        "#Let us see how it looks now\n",
        "model.summary()"
      ]
    },
    {
      "cell_type": "code",
      "execution_count": null,
      "metadata": {
        "id": "jCKboVfzx82U"
      },
      "outputs": [],
      "source": [
        "model_path = \"/content/eurosat_rgb_vgg16_model_no_weights.h5\"\n",
        "checkpoint = ModelCheckpoint(filepath=model_path, monitor=\"val_loss\", save_best_only=True)\n",
        "reduce_lr = ReduceLROnPlateau(monitor=\"val_loss\", factor=0.1, patience=5)\n",
        "early_stopping = EarlyStopping(monitor=\"val_loss\", patience=15, restore_best_weights=True, verbose=True)\n",
        "callback_list = [checkpoint, early_stopping, reduce_lr]"
      ]
    },
    {
      "cell_type": "code",
      "execution_count": null,
      "metadata": {
        "id": "cLWdghHxyIeZ"
      },
      "outputs": [],
      "source": [
        "model.compile(loss=\"categorical_crossentropy\",\n",
        "              optimizer=Adam(learning_rate=1e-4),\n",
        "              metrics=['accuracy'])"
      ]
    },
    {
      "cell_type": "code",
      "execution_count": null,
      "metadata": {
        "id": "45je0ffZyRmF"
      },
      "outputs": [],
      "source": [
        "history = model.fit(\n",
        "    training_set,\n",
        "    validation_data=validation_set,\n",
        "    callbacks=callback_list,\n",
        "    epochs=25,\n",
        "    verbose=1,\n",
        ")"
      ]
    },
    {
      "cell_type": "code",
      "execution_count": null,
      "metadata": {
        "id": "Ta6jMxc61hDr"
      },
      "outputs": [],
      "source": [
        "plt.figure(figsize=(18, 5))\n",
        "\n",
        "# Loss\n",
        "plt.subplot(1, 2, 1)\n",
        "plt.plot(history.history[\"loss\"], label=\"train\")\n",
        "plt.plot(history.history[\"val_loss\"], label=\"validation\")\n",
        "plt.title(\"Model Loss\")\n",
        "plt.ylabel(\"Loss\")\n",
        "plt.xlabel(\"Epoch\")\n",
        "plt.legend(loc=\"upper right\")\n",
        "plt.ylim(0, max(history.history[\"loss\"] + history.history[\"val_loss\"]) *0.7)\n",
        "\n",
        "# Accuracy\n",
        "plt.subplot(1, 2, 2)\n",
        "plt.plot(history.history[\"accuracy\"], label=\"train\")\n",
        "plt.plot(history.history[\"val_accuracy\"], label=\"validation\")\n",
        "plt.title(\"Model Accuracy\")\n",
        "plt.ylabel(\"Accuracy\")\n",
        "plt.xlabel(\"Epoch\")\n",
        "plt.legend(loc=\"lower right\")\n",
        "plt.ylim(0.5, 1)\n",
        "\n",
        "plt.tight_layout()\n",
        "plt.show()\n",
        "plt.savefig(\"/content/vgg16_no_weights_loss_accuracy.png\")\n"
      ]
    },
    {
      "cell_type": "code",
      "execution_count": null,
      "metadata": {
        "id": "8Lcmjuhe1hXm"
      },
      "outputs": [],
      "source": [
        "loss, accuracy = model.evaluate(test_set, verbose=1)\n",
        "print(\"Test Loss:\", loss, \"\\nTest Accuracy:\", accuracy)"
      ]
    },
    {
      "cell_type": "code",
      "execution_count": null,
      "metadata": {
        "id": "-fOunNQdkk_K"
      },
      "outputs": [],
      "source": [
        "base_vgg16 = VGG16(include_top=False,\n",
        "                   weights='imagenet',\n",
        "                   input_tensor=None,\n",
        "                   input_shape=(64, 64, 3),\n",
        "                   pooling=None,\n",
        "                   classes=10,\n",
        "                   classifier_activation='softmax')"
      ]
    },
    {
      "cell_type": "code",
      "execution_count": null,
      "metadata": {
        "id": "n-N_epVrklBJ"
      },
      "outputs": [],
      "source": [
        "class_count = len(class_name_list)\n",
        "print(tf.__version__)\n",
        "model = Sequential()\n",
        "model.add(base_vgg16)\n",
        "model.add(Flatten())\n",
        "model.add(Dropout(0.5))\n",
        "model.add(Dense(units=512, activation=\"relu\", kernel_initializer=\"he_normal\"))\n",
        "model.add(Dense(class_count, activation=\"softmax\"))\n",
        "#Let us see how it looks now\n",
        "model.summary()"
      ]
    },
    {
      "cell_type": "code",
      "execution_count": null,
      "metadata": {
        "id": "M-j9rlLiklEr"
      },
      "outputs": [],
      "source": [
        "model_path = \"/content/eurosat_rgb_vgg16_model_original.h5\"\n",
        "checkpoint = ModelCheckpoint(filepath=model_path, monitor=\"val_loss\", save_best_only=True)\n",
        "reduce_lr = ReduceLROnPlateau(monitor=\"val_loss\", factor=0.1, patience=5)\n",
        "early_stopping = EarlyStopping(monitor=\"val_loss\", patience=15, restore_best_weights=True, verbose=True)\n",
        "callback_list = [checkpoint, early_stopping, reduce_lr]"
      ]
    },
    {
      "cell_type": "markdown",
      "metadata": {
        "id": "vukb1AzvhYlU"
      },
      "source": [
        "Wonderful!!!"
      ]
    },
    {
      "cell_type": "code",
      "execution_count": null,
      "metadata": {
        "id": "uUNRZv94hbCa"
      },
      "outputs": [],
      "source": [
        "model.compile(loss=\"categorical_crossentropy\",\n",
        "              optimizer=Adam(learning_rate=1e-4),\n",
        "              metrics=['accuracy'])"
      ]
    },
    {
      "cell_type": "code",
      "execution_count": null,
      "metadata": {
        "id": "-twNg3lYl2BH"
      },
      "outputs": [],
      "source": [
        "history = model.fit(\n",
        "    training_set,\n",
        "    validation_data=validation_set,\n",
        "    callbacks=callback_list,\n",
        "    epochs=30,\n",
        "    verbose=1,\n",
        ")"
      ]
    },
    {
      "cell_type": "code",
      "execution_count": null,
      "metadata": {
        "id": "iiiYzuTyl2Da"
      },
      "outputs": [],
      "source": [
        "plt.figure(figsize=(18, 5))\n",
        "\n",
        "# Loss\n",
        "plt.subplot(1, 2, 1)\n",
        "plt.plot(history.history[\"loss\"], label=\"train\")\n",
        "plt.plot(history.history[\"val_loss\"], label=\"validation\")\n",
        "plt.title(\"Model Loss\")\n",
        "plt.ylabel(\"Loss\")\n",
        "plt.xlabel(\"Epoch\")\n",
        "plt.legend(loc=\"upper right\")\n",
        "plt.ylim(0, max(history.history[\"loss\"] + history.history[\"val_loss\"]) *0.7)\n",
        "\n",
        "# Accuracy\n",
        "plt.subplot(1, 2, 2)\n",
        "plt.plot(history.history[\"accuracy\"], label=\"train\")\n",
        "plt.plot(history.history[\"val_accuracy\"], label=\"validation\")\n",
        "plt.title(\"Model Accuracy\")\n",
        "plt.ylabel(\"Accuracy\")\n",
        "plt.xlabel(\"Epoch\")\n",
        "plt.legend(loc=\"lower right\")\n",
        "plt.ylim(0.5, 1)\n",
        "\n",
        "plt.tight_layout()\n",
        "plt.show()\n",
        "plt.savefig(\"/content/vgg16_original_loss_accuracy.png\")\n"
      ]
    },
    {
      "cell_type": "markdown",
      "metadata": {
        "id": "hMLlJTU4sdop"
      },
      "source": [
        "Weird!!! Significant Overfitting but great accuracy"
      ]
    },
    {
      "cell_type": "code",
      "execution_count": null,
      "metadata": {
        "id": "C6VMQzp9l2G1"
      },
      "outputs": [],
      "source": [
        "loss, accuracy = model.evaluate(test_set, verbose=1)\n",
        "print(\"Test Loss:\", loss, \"\\nTest Accuracy:\", accuracy)"
      ]
    },
    {
      "cell_type": "code",
      "execution_count": null,
      "metadata": {
        "id": "ku_e9SzsoDcW"
      },
      "outputs": [],
      "source": [
        "test_set.reset()\n",
        "predicted_probabilities = model.predict(test_set, steps=test_set.n, verbose=1)\n",
        "predicted_class_ids = np.argmax(predicted_probabilities, axis=1)\n",
        "print(metrics.classification_report(test_set.labels, predicted_class_ids, digits=4))"
      ]
    },
    {
      "cell_type": "code",
      "execution_count": null,
      "metadata": {
        "id": "okf6i1jhoDf3"
      },
      "outputs": [],
      "source": [
        "cf_matrix = confusion_matrix(test_set.labels, predicted_class_ids)\n",
        "print(cf_matrix)\n",
        "confusion_matrix_array = confusion_matrix(y_true=test_set.labels, y_pred=predicted_class_ids)\n",
        "confusion_matrix_df = pd.DataFrame(\n",
        "    data=confusion_matrix_array,\n",
        "    index=class_name_list,\n",
        "    columns=class_name_list\n",
        ")\n",
        "\n",
        "plt.figure(figsize=(10, 7))\n",
        "sns.set(font_scale=1)\n",
        "sns.heatmap(confusion_matrix_df/np.sum(confusion_matrix_df), annot=True,\n",
        "           cmap=\"Blues\", annot_kws={\"size\": 9}, fmt='.2%')\n",
        "plt.ylabel(\"Label\")\n",
        "plt.xlabel(\"Prediction\")\n",
        "plt.title(\"Confusion matrix for the test set. Percentages\")\n",
        "plt.show()\n",
        "plt.savefig(\"/content/vgg19_exp1_confusion_percentages.png\")"
      ]
    },
    {
      "cell_type": "code",
      "execution_count": null,
      "metadata": {
        "id": "2wEAGo6foInL"
      },
      "outputs": [],
      "source": [
        "#Find mis-judged images\n",
        "results_df = pd.DataFrame(\n",
        "    {\n",
        "        \"label\": test_set.labels,\n",
        "        \"prediction\": predicted_class_ids,\n",
        "        \"path\": test_set.filepaths\n",
        "    }\n",
        ")\n",
        "mistakes = results_df[\"label\"] != results_df[\"prediction\"]\n",
        "mistakes_df = results_df[mistakes]\n",
        "\n",
        "print(f\"{len(mistakes_df)} wrong predictions out of {len(results_df)}\")\n",
        "mistaken_predictions = (class_name_list[pred] for pred in mistakes_df[\"prediction\"])\n",
        "mistaken_labels = (class_name_list[label] for label in mistakes_df[\"label\"])\n",
        "mistaken_images = (image.imread(path) for path in mistakes_df[\"path\"])\n",
        "\n",
        "figure_height = 3\n",
        "figure_width = 5\n",
        "\n",
        "figure_size = (18, 15)\n",
        "plt.figure(figsize=figure_size)\n",
        "for index in range(figure_height * figure_width):\n",
        "\n",
        "    label = next(mistaken_predictions)\n",
        "    prediction = next(mistaken_labels)\n",
        "    picture = next(mistaken_images)\n",
        "\n",
        "    plt.subplot(figure_height, figure_width, index + 1)\n",
        "    plt.imshow(picture)\n",
        "    plt.title(f\"Label: {label} \\nPrediction: {prediction}\")\n",
        "    plt.axis(\"off\")\n",
        "\n",
        "plt.savefig(\"/content/vgg19_mislabeled_results.png\")"
      ]
    },
    {
      "cell_type": "markdown",
      "metadata": {
        "id": "5TwPdjtPs9lo"
      },
      "source": [
        "Let us add an L2 regularizer!!!! Lets tackle overfitting"
      ]
    },
    {
      "cell_type": "code",
      "execution_count": null,
      "metadata": {
        "id": "LsI_xnrToIqp"
      },
      "outputs": [],
      "source": [
        "from keras.regularizers import l2\n",
        "\n",
        "# VGG16 base model,We  have seen it before!!!\n",
        "base_vgg16 = VGG16(include_top=False,\n",
        "                   weights='imagenet',\n",
        "                   input_tensor=None,\n",
        "                   input_shape=(64, 64, 3),\n",
        "                   pooling=None)\n",
        "\n",
        "class_count = len(class_name_list)\n",
        "model = Sequential()\n",
        "model.add(base_vgg16)\n",
        "model.add(Flatten())\n",
        "model.add(Dropout(0.5))\n",
        "\n",
        "# L2 regularization\n",
        "model.add(Dense(units=512, activation=\"relu\",\n",
        "                kernel_initializer=\"he_normal\",\n",
        "                kernel_regularizer=l2(0.01)))  # L2 regularization with weight decay\n",
        "model.add(Dense(class_count, activation=\"softmax\"))\n",
        "model_path = \"/content/eurosat_rgb_vgg16_model_regularized.h5\"\n",
        "checkpoint = ModelCheckpoint(filepath=model_path, monitor=\"val_loss\", save_best_only=True)\n",
        "reduce_lr = ReduceLROnPlateau(monitor=\"val_loss\", factor=0.1, patience=5)\n",
        "early_stopping = EarlyStopping(monitor=\"val_loss\", patience=15, restore_best_weights=True, verbose=True)\n",
        "callback_list = [checkpoint, early_stopping, reduce_lr]\n",
        "model.compile(loss=\"categorical_crossentropy\",\n",
        "              optimizer=Adam(learning_rate=1e-4),\n",
        "              metrics=['accuracy'])\n",
        "history = model.fit(\n",
        "    training_set,\n",
        "    validation_data=validation_set,\n",
        "    callbacks=callback_list,\n",
        "    epochs=20,\n",
        "    verbose=1,\n",
        ")\n"
      ]
    },
    {
      "cell_type": "code",
      "execution_count": null,
      "metadata": {
        "id": "1Czsu5fiuQ2w"
      },
      "outputs": [],
      "source": [
        "plt.figure(figsize=(18, 5))\n",
        "\n",
        "# Loss\n",
        "plt.subplot(1, 2, 1)\n",
        "plt.plot(history.history[\"loss\"], label=\"train\")\n",
        "plt.plot(history.history[\"val_loss\"], label=\"validation\")\n",
        "plt.title(\"Model Loss\")\n",
        "plt.ylabel(\"Loss\")\n",
        "plt.xlabel(\"Epoch\")\n",
        "plt.legend(loc=\"upper right\")\n",
        "plt.ylim(0, max(history.history[\"loss\"] + history.history[\"val_loss\"]) *0.7)\n",
        "\n",
        "# Accuracy\n",
        "plt.subplot(1, 2, 2)\n",
        "plt.plot(history.history[\"accuracy\"], label=\"train\")\n",
        "plt.plot(history.history[\"val_accuracy\"], label=\"validation\")\n",
        "plt.title(\"Model Accuracy\")\n",
        "plt.ylabel(\"Accuracy\")\n",
        "plt.xlabel(\"Epoch\")\n",
        "plt.legend(loc=\"lower right\")\n",
        "plt.ylim(0.5, 1)\n",
        "\n",
        "plt.tight_layout()\n",
        "plt.show()\n",
        "plt.savefig(\"/content/vgg19_original_loss_accuracy.png\")\n"
      ]
    },
    {
      "cell_type": "markdown",
      "metadata": {
        "id": "EQn8-sIKtI2u"
      },
      "source": [
        "Better than before, not much overfitting"
      ]
    },
    {
      "cell_type": "code",
      "execution_count": null,
      "metadata": {
        "id": "kXz5LfZ6vPqx"
      },
      "outputs": [],
      "source": [
        "plt.figure(figsize=(18, 5))\n",
        "\n",
        "# Loss\n",
        "plt.subplot(1, 2, 1)\n",
        "plt.plot(history.history[\"loss\"], label=\"train\")\n",
        "plt.plot(history.history[\"val_loss\"], label=\"validation\")\n",
        "plt.title(\"Model Loss\")\n",
        "plt.ylabel(\"Loss\")\n",
        "plt.xlabel(\"Epoch\")\n",
        "plt.legend(loc=\"upper right\")\n",
        "plt.ylim(0, max(history.history[\"loss\"] + history.history[\"val_loss\"]) *0.7)\n",
        "\n",
        "# Accuracy\n",
        "plt.subplot(1, 2, 2)\n",
        "plt.plot(history.history[\"accuracy\"], label=\"train\")\n",
        "plt.plot(history.history[\"val_accuracy\"], label=\"validation\")\n",
        "plt.title(\"Model Accuracy\")\n",
        "plt.ylabel(\"Accuracy\")\n",
        "plt.xlabel(\"Epoch\")\n",
        "plt.legend(loc=\"lower right\")\n",
        "plt.ylim(0.5, 1)\n",
        "\n",
        "plt.tight_layout()\n",
        "plt.show()\n",
        "plt.savefig(\"/content/vgg19_original_loss_accuracy.png\")\n"
      ]
    },
    {
      "cell_type": "code",
      "execution_count": null,
      "metadata": {
        "id": "nLDXNEQAvb4e"
      },
      "outputs": [],
      "source": [
        "test_set.reset()\n",
        "predicted_probabilities = model.predict(test_set, steps=test_set.n, verbose=1)\n",
        "predicted_class_ids = np.argmax(predicted_probabilities, axis=1)\n",
        "print(metrics.classification_report(test_set.labels, predicted_class_ids, digits=4))"
      ]
    },
    {
      "cell_type": "code",
      "execution_count": null,
      "metadata": {
        "id": "uKgK0e6Ovgze"
      },
      "outputs": [],
      "source": [
        "cf_matrix = confusion_matrix(test_set.labels, predicted_class_ids)\n",
        "print(cf_matrix)\n",
        "confusion_matrix_array = confusion_matrix(y_true=test_set.labels, y_pred=predicted_class_ids)\n",
        "confusion_matrix_df = pd.DataFrame(\n",
        "    data=confusion_matrix_array,\n",
        "    index=class_name_list,\n",
        "    columns=class_name_list\n",
        ")\n",
        "\n",
        "plt.figure(figsize=(10, 7))\n",
        "sns.set(font_scale=1)\n",
        "sns.heatmap(confusion_matrix_df/np.sum(confusion_matrix_df), annot=True,\n",
        "           cmap=\"Blues\", annot_kws={\"size\": 9}, fmt='.2%')\n",
        "plt.ylabel(\"Label\")\n",
        "plt.xlabel(\"Prediction\")\n",
        "plt.title(\"Confusion matrix for the test set. Percentages\")\n",
        "plt.show()\n",
        "plt.savefig(\"/content/vgg19_regularized_exp1_confusion_percentages.png\")"
      ]
    },
    {
      "cell_type": "code",
      "execution_count": null,
      "metadata": {
        "id": "W-TKvC5xvmCQ"
      },
      "outputs": [],
      "source": [
        "results_df = pd.DataFrame(\n",
        "    {\n",
        "        \"label\": test_set.labels,\n",
        "        \"prediction\": predicted_class_ids,\n",
        "        \"path\": test_set.filepaths\n",
        "    }\n",
        ")\n",
        "mistakes = results_df[\"label\"] != results_df[\"prediction\"]\n",
        "mistakes_df = results_df[mistakes]\n",
        "\n",
        "print(f\"{len(mistakes_df)} wrong predictions out of {len(results_df)}\")\n",
        "mistaken_predictions = (class_name_list[pred] for pred in mistakes_df[\"prediction\"])\n",
        "mistaken_labels = (class_name_list[label] for label in mistakes_df[\"label\"])\n",
        "mistaken_images = (image.imread(path) for path in mistakes_df[\"path\"])\n",
        "\n",
        "figure_height = 3\n",
        "figure_width = 5\n",
        "\n",
        "figure_size = (18, 15)\n",
        "plt.figure(figsize=figure_size)\n",
        "for index in range(figure_height * figure_width):\n",
        "\n",
        "    label = next(mistaken_predictions)\n",
        "    prediction = next(mistaken_labels)\n",
        "    picture = next(mistaken_images)\n",
        "\n",
        "    plt.subplot(figure_height, figure_width, index + 1)\n",
        "    plt.imshow(picture)\n",
        "    plt.title(f\"Label: {label} \\nPrediction: {prediction}\")\n",
        "    plt.axis(\"off\")\n",
        "\n",
        "plt.savefig(\"/content/vgg19_regularized_mislabeled_results.png\")"
      ]
    },
    {
      "cell_type": "code",
      "execution_count": null,
      "metadata": {
        "id": "iNW-khzJwBCG"
      },
      "outputs": [],
      "source": [
        "#Checking if we can load model, this stuff gave a lot of pain earlier with tf 17 implementation\n",
        "model_path = \"/content/eurosat_rgb_vgg16_model_original.h5\"\n",
        "load_model(model_path)"
      ]
    },
    {
      "cell_type": "markdown",
      "metadata": {
        "id": "ph24tLmhw0mj"
      },
      "source": [
        "Works Finally!!!"
      ]
    },
    {
      "cell_type": "markdown",
      "metadata": {
        "id": "mHCswZHsyT8c"
      },
      "source": [
        "VGG19!!"
      ]
    },
    {
      "cell_type": "code",
      "execution_count": null,
      "metadata": {
        "id": "ZIoHwVzJwBFq"
      },
      "outputs": [],
      "source": [
        "#Let us try VGG19, a slightly more advanced model\n",
        "base_vgg19 = VGG19(include_top=False,\n",
        "                   weights='imagenet',\n",
        "                   input_tensor=None,\n",
        "                   input_shape=(64, 64, 3),\n",
        "                   pooling=None,\n",
        "                   classes=10,\n",
        "                   classifier_activation='softmax')\n"
      ]
    },
    {
      "cell_type": "code",
      "execution_count": null,
      "metadata": {
        "id": "VM_VruAAkXmn"
      },
      "outputs": [],
      "source": [
        "class_count = len(class_name_list)\n",
        "model = Sequential()\n",
        "model.add(base_vgg19)\n",
        "model.add(Flatten())\n",
        "model.add(Dropout(0.5))\n",
        "model.add(Dense(units=512, activation=\"relu\", kernel_initializer=\"he_normal\"))\n",
        "model.add(Dense(class_count, activation=\"softmax\"))"
      ]
    },
    {
      "cell_type": "code",
      "execution_count": null,
      "metadata": {
        "id": "kOZxzVqAkXrr"
      },
      "outputs": [],
      "source": [
        "model_path = \"/content/eurosat_rgb_vgg19_model.h5\"\n",
        "checkpoint = ModelCheckpoint(filepath=model_path, monitor=\"val_loss\", save_best_only=True)\n",
        "reduce_lr = ReduceLROnPlateau(monitor=\"val_loss\", factor=0.1, patience=5)\n",
        "early_stopping = EarlyStopping(monitor=\"val_loss\", patience=10, restore_best_weights=True, verbose=True)\n",
        "\n",
        "callback_list = [checkpoint, early_stopping, reduce_lr]"
      ]
    },
    {
      "cell_type": "code",
      "execution_count": null,
      "metadata": {
        "id": "TM5kntbyk0u8"
      },
      "outputs": [],
      "source": [
        "model.compile(loss=\"categorical_crossentropy\", optimizer=Adam(learning_rate=1e-4), metrics=[\"accuracy\"])"
      ]
    },
    {
      "cell_type": "code",
      "execution_count": null,
      "metadata": {
        "id": "YTghrecjk08-"
      },
      "outputs": [],
      "source": [
        "history = model.fit(\n",
        "    training_set,\n",
        "    validation_data=validation_set,\n",
        "    callbacks=callback_list,\n",
        "    epochs=30,\n",
        "    verbose=1,\n",
        ")"
      ]
    },
    {
      "cell_type": "code",
      "execution_count": null,
      "metadata": {
        "id": "h4X0x6qhrelw"
      },
      "outputs": [],
      "source": [
        "loss, accuracy = model.evaluate(test_set, verbose=1)\n",
        "print(\"Test Loss:\", loss, \"\\nTest Accuracy:\", accuracy)"
      ]
    },
    {
      "cell_type": "markdown",
      "metadata": {
        "id": "5nZXGrndthlh"
      },
      "source": [
        "Let us do some adversial testing, starting with an augmix like thingyy!!"
      ]
    },
    {
      "cell_type": "code",
      "execution_count": null,
      "metadata": {
        "id": "4GXPtBk8r-cJ"
      },
      "outputs": [],
      "source": [
        "import numpy as np\n",
        "import tensorflow as tf\n",
        "from tensorflow.keras.preprocessing.image import ImageDataGenerator\n",
        "from sklearn.utils import shuffle\n",
        "\n",
        "test_images, test_labels = [], []\n",
        "for _ in range(400):\n",
        "    img, label = next(test_set)\n",
        "    test_images.extend(img)\n",
        "    test_labels.extend(label)\n",
        "\n",
        "test_images, test_labels = np.array(test_images), np.array(test_labels)\n",
        "\n",
        "\n",
        "augmenter = ImageDataGenerator(\n",
        "    rotation_range=30,\n",
        "    width_shift_range=0.1,\n",
        "    height_shift_range=0.1,\n",
        "    shear_range=0.2,\n",
        "    zoom_range=0.2,\n",
        "    horizontal_flip=True,\n",
        "    fill_mode=\"nearest\"\n",
        ")\n",
        "\n",
        "# Apply augmentation to the test images\n",
        "augmented_images = np.array([augmenter.random_transform(img) for img in test_images])\n",
        "\n",
        "# Evaluate the model on augmented test images\n",
        "loss, accuracy = model.evaluate(augmented_images, test_labels, verbose=1)\n",
        "print(\"Test Loss with Augmented Images:\", loss, \"\\nTest Accuracy with Augmented Images:\", accuracy)\n"
      ]
    },
    {
      "cell_type": "markdown",
      "metadata": {
        "id": "pN2vJye3ttP_"
      },
      "source": [
        "Let us do smth better, Let us apply FGSM to prove adversial attacks work very well"
      ]
    },
    {
      "cell_type": "code",
      "execution_count": null,
      "metadata": {
        "id": "Z44wpq0BuDld"
      },
      "outputs": [],
      "source": [
        "def fgsm_attack(image, epsilon, gradient):\n",
        "    signed_grad = tf.sign(gradient)\n",
        "    perturbed_image = image + epsilon * signed_grad\n",
        "    perturbed_image = tf.clip_by_value(perturbed_image, 0, 1)\n",
        "    return perturbed_image\n",
        "epsilon = 0.01\n",
        "test_images, test_labels = [], []\n",
        "for _ in range(200): #Lets restrict ourselves well cz GPU :'(\n",
        "    img, label = next(test_set)\n",
        "    test_images.extend(img)\n",
        "    test_labels.extend(label)\n",
        "\n",
        "test_images, test_labels = np.array(test_images), np.array(test_labels)\n",
        "perturbed_images = []\n",
        "for img in test_images:\n",
        "    img_tensor = tf.convert_to_tensor(img.reshape(1, *img.shape))\n",
        "    with tf.GradientTape() as tape:\n",
        "        tape.watch(img_tensor)\n",
        "        prediction = model(img_tensor)\n",
        "        loss = tf.keras.losses.categorical_crossentropy(test_labels[0].reshape(1, -1), prediction)\n",
        "    gradient = tape.gradient(loss, img_tensor)\n",
        "\n",
        "    # Applying FGSM attack!!!!!!!!!!!\n",
        "    perturbed_img = fgsm_attack(img_tensor, epsilon, gradient)\n",
        "    perturbed_images.append(perturbed_img.numpy().squeeze())\n",
        "\n",
        "perturbed_images = np.array(perturbed_images)\n",
        "\n",
        "loss, accuracy = model.evaluate(perturbed_images, test_labels, verbose=1)\n",
        "print(\"Test Loss with FGSM-perturbed Images:\", loss, \"\\nTest Accuracy with FGSM-perturbed Images:\", accuracy)\n"
      ]
    },
    {
      "cell_type": "markdown",
      "metadata": {
        "id": "j6HW1hY_uC5e"
      },
      "source": [
        "Gets better for regularized model"
      ]
    },
    {
      "cell_type": "code",
      "execution_count": null,
      "metadata": {
        "id": "DVPyk4Z2vuq4"
      },
      "outputs": [],
      "source": [
        "\n",
        "model_path = \"/content/eurosat_rgb_vgg16_model_regularized.h5\"\n",
        "model = tf.keras.models.load_model(model_path)\n",
        "def fgsm_attack(image, epsilon, gradient):\n",
        "    signed_grad = tf.sign(gradient)\n",
        "    perturbed_image = image + epsilon * signed_grad\n",
        "    perturbed_image = tf.clip_by_value(perturbed_image, 0, 1)\n",
        "    return perturbed_image\n",
        "\n",
        "epsilon = 0.01\n",
        "test_images, test_labels = [], []\n",
        "for _ in range(200):\n",
        "    img, label = next(test_set)\n",
        "    test_images.extend(img)\n",
        "    test_labels.extend(label)\n",
        "\n",
        "test_images, test_labels = np.array(test_images), np.array(test_labels)\n",
        "perturbed_images = []\n",
        "\n",
        "os.makedirs(\"/content/adversarial_images\", exist_ok=True)\n",
        "for idx, img in enumerate(test_images):\n",
        "    img_tensor = tf.convert_to_tensor(img.reshape(1, *img.shape))\n",
        "    with tf.GradientTape() as tape:\n",
        "        tape.watch(img_tensor)\n",
        "        prediction = model(img_tensor)\n",
        "        loss = tf.keras.losses.categorical_crossentropy(test_labels[0].reshape(1, -1), prediction)\n",
        "    gradient = tape.gradient(loss, img_tensor)\n",
        "    perturbed_img = fgsm_attack(img_tensor, epsilon, gradient)\n",
        "    perturbed_images.append(perturbed_img.numpy().squeeze())\n",
        "    plt.imsave(f\"/content/adversarial_images/perturbed_image_{idx + 1}.png\", perturbed_img.numpy().squeeze())\n",
        "perturbed_images = np.array(perturbed_images)\n",
        "loss, accuracy = model.evaluate(perturbed_images, test_labels, verbose=1)\n",
        "print(f\"Test Loss with FGSM-perturbed Images: {loss}\\nTest Accuracy with FGSM-perturbed Images: {accuracy}\")\n",
        "def plot_images(images):\n",
        "    plt.figure(figsize=(12, 6))\n",
        "    for i in range(10):\n",
        "        plt.subplot(2, 5, i + 1)\n",
        "        plt.imshow(images[i])\n",
        "        plt.title(f\"Perturbed {i + 1}\")\n",
        "        plt.axis('off')\n",
        "    plt.tight_layout()\n",
        "    plt.show()\n",
        "plot_images(perturbed_images[:10])\n"
      ]
    },
    {
      "cell_type": "code",
      "execution_count": null,
      "metadata": {
        "id": "OTOBA-3n3akn"
      },
      "outputs": [],
      "source": [
        "!pip install joblib\n",
        "from joblib import dump\n",
        "dump(model, 'model.joblib')"
      ]
    },
    {
      "cell_type": "code",
      "execution_count": null,
      "metadata": {
        "id": "nQumIrPzRblG"
      },
      "outputs": [],
      "source": [
        "from google.colab import files\n",
        "import glob\n",
        "import zipfile\n",
        "import os\n",
        "\n",
        "# Find all .h5 files in the root directory\n",
        "h5_files = glob.glob('/content/*.h5')\n",
        "\n",
        "# Print the size of each .h5 file\n",
        "for file in h5_files:\n",
        "    size = os.path.getsize(file)\n",
        "    print(f\"File: {file}, Size: {size / (1024 * 1024):.2f} MB\")\n",
        "\n",
        "# Create a zip file containing all .h5 files\n",
        "with zipfile.ZipFile('h5_files.zip', 'w') as zipf:\n",
        "    for file in h5_files:\n",
        "        zipf.write(file)\n",
        "\n",
        "# Download the zip file\n",
        "files.download('h5_files.zip')"
      ]
    }
  ],
  "metadata": {
    "accelerator": "TPU",
    "colab": {
      "gpuType": "V28",
      "provenance": [],
      "include_colab_link": true
    },
    "kernelspec": {
      "display_name": "Python 3",
      "name": "python3"
    },
    "language_info": {
      "name": "python"
    }
  },
  "nbformat": 4,
  "nbformat_minor": 0
}